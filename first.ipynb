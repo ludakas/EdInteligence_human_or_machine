{
 "cells": [
  {
   "cell_type": "code",
   "execution_count": 42,
   "metadata": {
    "collapsed": false
   },
   "outputs": [
    {
     "name": "stdout",
     "output_type": "stream",
     "text": [
      "Variable    Type        Data/Info\n",
      "---------------------------------\n",
      "Doc2Vec     type        <class 'gensim.models.doc2vec.Doc2Vec'>\n",
      "gensim      module      <module 'gensim' from '/u<...>ges/gensim/__init__.pyc'>\n",
      "human       list        n=0\n",
      "labels      list        n=24544\n",
      "load_data   function    <function load_data at 0x7f83099f60c8>\n",
      "machine     list        n=0\n"
     ]
    }
   ],
   "source": [
    "from gensim.models.doc2vec import Doc2Vec\n",
    "import gensim\n",
    "\n",
    "def load_data(file_name):\n",
    "    with open(file_name) as f:\n",
    "        lines = f.readlines()\n",
    "        \n",
    "        \n",
    "    f = open(\"data_no_labels.txt\", \"w\")\n",
    "    labels = list()\n",
    "    machine = list()\n",
    "    human = list()\n",
    "    for l in lines:\n",
    "#         if l[0]=='0':\n",
    "#             l = gensim.utils.any2unicode(l)\n",
    "#             machine.append(l[2:].split())\n",
    "#             print machine[-1]\n",
    "#         else:\n",
    "#             human.append(l[2:])\n",
    "        \n",
    "        labels.append(int(l[0]))\n",
    "        \n",
    "        f.write(l[2:])\n",
    "    f.close()\n",
    "    return machine, human, labels        \n",
    "\n",
    "machine, human, labels = load_data(\"training_data.txt\")\n",
    "\n",
    "%whos"
   ]
  },
  {
   "cell_type": "code",
   "execution_count": 32,
   "metadata": {
    "collapsed": false
   },
   "outputs": [],
   "source": [
    "# model = Doc2Vec(machine, size=20, window=8, min_count=2, workers=1, alpha=0.025, min_alpha=0.025, batch_words=30)"
   ]
  },
  {
   "cell_type": "code",
   "execution_count": null,
   "metadata": {
    "collapsed": true
   },
   "outputs": [],
   "source": []
  }
 ],
 "metadata": {
  "kernelspec": {
   "display_name": "Python 2",
   "language": "python",
   "name": "python2"
  },
  "language_info": {
   "codemirror_mode": {
    "name": "ipython",
    "version": 2
   },
   "file_extension": ".py",
   "mimetype": "text/x-python",
   "name": "python",
   "nbconvert_exporter": "python",
   "pygments_lexer": "ipython2",
   "version": "2.7.12"
  }
 },
 "nbformat": 4,
 "nbformat_minor": 0
}
