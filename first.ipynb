{
 "cells": [
  {
   "cell_type": "code",
   "execution_count": 64,
   "metadata": {
    "collapsed": true
   },
   "outputs": [],
   "source": [
    "from gensim.models.doc2vec import LabeledSentence\n",
    "from gensim.models.doc2vec import Doc2Vec\n",
    "from gensim import utils\n",
    "import numpy as np\n",
    "import matplotlib.pyplot as plt\n",
    "import pandas as pd\n",
    "from random import randint\n",
    "import seaborn as sns\n",
    "sns.set()\n",
    "%matplotlib inline"
   ]
  },
  {
   "cell_type": "code",
   "execution_count": 73,
   "metadata": {
    "collapsed": false,
    "deletable": true,
    "editable": true
   },
   "outputs": [],
   "source": [
    "class File2DocSpace(Doc2Vec):\n",
    "    \n",
    "    def __init__(self, file_name, epochs=1, size=80,\n",
    "                 window=3,\n",
    "                 min_count=2, workers=1,\n",
    "                 alpha=0.5, min_alpha=0.025, batch_words=30,\n",
    "                 train= True):\n",
    "    \n",
    "        self.file_name = file_name\n",
    "        self.D, self.y = self.load_data()\n",
    "        self.epochs = epochs\n",
    "        self.dim = size\n",
    "        # for scatter plot matrix functionality\n",
    "        self.hues = pd.Series(self.y).map(lambda x: \"blue\" if x is 0 else \"red\")\n",
    "        super(File2DocSpace, self).__init__(self.D, size=80,\n",
    "                                            window=3,\n",
    "                                            min_count=2, workers=1,alpha=0.5,\n",
    "                                            min_alpha=0.025, batch_words=30)\n",
    "        if train:\n",
    "            self.train2()\n",
    "            self.X = np.asarray(self.docvecs)\n",
    "            self.docvecs = None # for RAM efficiency\n",
    "        else:\n",
    "            self.X = None\n",
    "\n",
    "    def load_data(self):\n",
    "        \"\"\"\n",
    "        Places data in list of labelled sentences format which\n",
    "        allows gensim to build vocab automatically\n",
    "        \"\"\"\n",
    "        with open(self.file_name) as f:\n",
    "            lines = f.readlines()\n",
    "\n",
    "        labels = list()\n",
    "        all_dat = list()\n",
    "        for i, l in enumerate(lines):\n",
    "\n",
    "            labels.append(int(l[0]))\n",
    "\n",
    "            l = gensim.utils.any2unicode(l)\n",
    "            all_dat.append(LabeledSentence(l.split(\"\\t\")[-1], [i]))\n",
    "\n",
    "        return all_dat, np.asarray(labels)\n",
    "    \n",
    "    def visualize_vec_as_mat(self):\n",
    "        \"\"\"\n",
    "         Draws a set of samples from pargraph vector space\n",
    "         and visualizes as a matrix\n",
    "        \n",
    "        \"\"\"\n",
    "        r1 = randint(self.dim, len(self.D) -1 )\n",
    "        if self.X is not None:\n",
    "            matrix = self.X[r1-self.dim:r1, :]\n",
    "        else:\n",
    "            matrix = np.asarray(self.docvecs)[r1-self.dim:r1, :]\n",
    "        plt.matshow(matrix)\n",
    "    \n",
    "    \n",
    "    def visualize_scatter_plot_mat(self, dim=6):\n",
    "        dictio = {}\n",
    "        r1 = randint(dim, len(self.dim) )\n",
    "        for i in range(r1-dim, r1):\n",
    "            if self.X is not None:\n",
    "                dictio[\"dimension \"+ str(i)] = self.X[:,i]\n",
    "            else:\n",
    "                dictio[\"dimension \"+ str(i)] = np.asarray(self.docvecs)[:,i]\n",
    "        dictio[\"hue\"] = self.hues\n",
    "        df = pd.DataFrame(dictio)\n",
    "        sns.pairplot(df, hue=\"hue\")\n",
    "    \n",
    "    def train2(self):\n",
    "        \"\"\"\n",
    "        Neural network SGD like trainign for paragraph vector estimation\n",
    "        \"\"\"\n",
    "        for epoch in range(self.epochs):\n",
    "            print \"epoch: \", epoch\n",
    "            self.train(self.D)\n",
    "            self.alpha -= 0.002  # decrease the learning rate\n",
    "            self.min_alpha = model.alpha  # fix the learning rate, no decay"
   ]
  },
  {
   "cell_type": "code",
   "execution_count": 74,
   "metadata": {
    "collapsed": false,
    "deletable": true,
    "editable": true
   },
   "outputs": [
    {
     "name": "stdout",
     "output_type": "stream",
     "text": [
      "epoch:  0\n"
     ]
    }
   ],
   "source": [
    "model = File2DocSpace(\"training_data.txt\")"
   ]
  },
  {
   "cell_type": "code",
   "execution_count": 75,
   "metadata": {
    "collapsed": false
   },
   "outputs": [
    {
     "data": {
      "image/png": "[encoded data removed]",
      "text/plain": [
       "<matplotlib.figure.Figure at 0x7fa228452cd0>"
      ]
     },
     "metadata": {},
     "output_type": "display_data"
    }
   ],
   "source": [
    "model.visualize_vec_as_mat()"
   ]
  },
  {
   "cell_type": "code",
   "execution_count": 76,
   "metadata": {
    "collapsed": false
   },
   "outputs": [
    {
     "ename": "TypeError",
     "evalue": "object of type 'int' has no len()",
     "output_type": "error",
     "traceback": [
      "\u001b[0;31m---------------------------------------------------------------------------\u001b[0m",
      "\u001b[0;31mTypeError\u001b[0m                                 Traceback (most recent call last)",
      "\u001b[0;32m<ipython-input-76-68cc631008c0>\u001b[0m in \u001b[0;36m<module>\u001b[0;34m()\u001b[0m\n\u001b[0;32m----> 1\u001b[0;31m \u001b[0mmodel\u001b[0m\u001b[0;34m.\u001b[0m\u001b[0mvisualize_scatter_plot_mat\u001b[0m\u001b[0;34m(\u001b[0m\u001b[0;34m)\u001b[0m\u001b[0;34m\u001b[0m\u001b[0m\n\u001b[0m",
      "\u001b[0;32m<ipython-input-73-481ac71c0ee9>\u001b[0m in \u001b[0;36mvisualize_scatter_plot_mat\u001b[0;34m(self, dim)\u001b[0m\n\u001b[1;32m     59\u001b[0m     \u001b[0;32mdef\u001b[0m \u001b[0mvisualize_scatter_plot_mat\u001b[0m\u001b[0;34m(\u001b[0m\u001b[0mself\u001b[0m\u001b[0;34m,\u001b[0m \u001b[0mdim\u001b[0m\u001b[0;34m=\u001b[0m\u001b[0;36m6\u001b[0m\u001b[0;34m)\u001b[0m\u001b[0;34m:\u001b[0m\u001b[0;34m\u001b[0m\u001b[0m\n\u001b[1;32m     60\u001b[0m         \u001b[0mdictio\u001b[0m \u001b[0;34m=\u001b[0m \u001b[0;34m{\u001b[0m\u001b[0;34m}\u001b[0m\u001b[0;34m\u001b[0m\u001b[0m\n\u001b[0;32m---> 61\u001b[0;31m         \u001b[0mr1\u001b[0m \u001b[0;34m=\u001b[0m \u001b[0mrandint\u001b[0m\u001b[0;34m(\u001b[0m\u001b[0mdim\u001b[0m\u001b[0;34m,\u001b[0m \u001b[0mlen\u001b[0m\u001b[0;34m(\u001b[0m\u001b[0mself\u001b[0m\u001b[0;34m.\u001b[0m\u001b[0mdim\u001b[0m\u001b[0;34m)\u001b[0m \u001b[0;34m)\u001b[0m\u001b[0;34m\u001b[0m\u001b[0m\n\u001b[0m\u001b[1;32m     62\u001b[0m         \u001b[0;32mfor\u001b[0m \u001b[0mi\u001b[0m \u001b[0;32min\u001b[0m \u001b[0mrange\u001b[0m\u001b[0;34m(\u001b[0m\u001b[0mr1\u001b[0m\u001b[0;34m-\u001b[0m\u001b[0mdim\u001b[0m\u001b[0;34m,\u001b[0m \u001b[0mr1\u001b[0m\u001b[0;34m)\u001b[0m\u001b[0;34m:\u001b[0m\u001b[0;34m\u001b[0m\u001b[0m\n\u001b[1;32m     63\u001b[0m             \u001b[0;32mif\u001b[0m \u001b[0mself\u001b[0m\u001b[0;34m.\u001b[0m\u001b[0mX\u001b[0m \u001b[0;32mis\u001b[0m \u001b[0;32mnot\u001b[0m \u001b[0mNone\u001b[0m\u001b[0;34m:\u001b[0m\u001b[0;34m\u001b[0m\u001b[0m\n",
      "\u001b[0;31mTypeError\u001b[0m: object of type 'int' has no len()"
     ]
    }
   ],
   "source": [
    "model.visualize_scatter_plot_mat()"
   ]
  },
  {
   "cell_type": "code",
   "execution_count": null,
   "metadata": {
    "collapsed": true
   },
   "outputs": [],
   "source": []
  }
 ],
 "metadata": {
  "kernelspec": {
   "display_name": "Python 2",
   "language": "python",
   "name": "python2"
  },
  "language_info": {
   "codemirror_mode": {
    "name": "ipython",
    "version": 2
   },
   "file_extension": ".py",
   "mimetype": "text/x-python",
   "name": "python",
   "nbconvert_exporter": "python",
   "pygments_lexer": "ipython2",
   "version": "2.7.6"
  }
 },
 "nbformat": 4,
 "nbformat_minor": 0
}
