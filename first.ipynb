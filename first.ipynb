{
 "cells": [
  {
   "cell_type": "code",
   "execution_count": 27,
   "metadata": {
    "collapsed": true
   },
   "outputs": [],
   "source": [
    "from gensim.models.doc2vec import LabeledSentence\n",
    "from gensim.models.doc2vec import TaggedLineDocument\n",
    "from gensim.models.doc2vec import Doc2Vec\n",
    "from gensim import utils\n",
    "import numpy as np\n",
    "import matplotlib.pyplot as plt\n",
    "%matplotlib inline"
   ]
  },
  {
   "cell_type": "code",
   "execution_count": 18,
   "metadata": {
    "collapsed": false,
    "deletable": true,
    "editable": true
   },
   "outputs": [
    {
     "name": "stdout",
     "output_type": "stream",
     "text": [
      "Variable             Type        Data/Info\n",
      "------------------------------------------\n",
      "Doc2Vec              type        <class 'gensim.models.doc2vec.Doc2Vec'>\n",
      "LabeledDocs          type        <class '__main__.LabeledDocs'>\n",
      "LabeledSentence      type        <class 'gensim.models.doc2vec.LabeledSentence'>\n",
      "TaggedLineDocument   type        <class 'gensim.models.doc<...>2vec.TaggedLineDocument'>\n",
      "all_dat              list        n=24544\n",
      "chain                type        <type 'itertools.chain'>\n",
      "gensim               module      <module 'gensim' from '/u<...>ges/gensim/__init__.pyc'>\n",
      "human                tuple       n=2\n",
      "labels               list        n=24544\n",
      "load_data            function    <function load_data at 0x7fa249402e60>\n",
      "machine              list        n=0\n",
      "np                   module      <module 'numpy' from '/us<...>ages/numpy/__init__.pyc'>\n",
      "partition            tuple       n=2\n",
      "utils                module      <module 'gensim.utils' fr<...>ckages/gensim/utils.pyc'>\n"
     ]
    }
   ],
   "source": [
    "class File2DocSpace(Doc2Vec):\n",
    "    \n",
    "    def __init__(self, file_name, epochs=10, size=20,\n",
    "                 window=3,\n",
    "                 min_count=2, workers=1,\n",
    "                 alpha=0.5, min_alpha=0.025, batch_words=30):\n",
    "    \n",
    "        self.file_name = file_name\n",
    "        self.D, self.y = self.file_name\n",
    "        super(File2DocSpace, self).__init__(self.D, size=20,\n",
    "                                            window=3,\n",
    "                                            min_count=2, workers=1,alpha=0.5,\n",
    "                                            min_alpha=0.025, batch_words=30)\n",
    "        self.train()\n",
    "        self.X = np.asarray(self.docvecs)\n",
    "\n",
    "    def load_data(self):\n",
    "        with open(self.file_name) as f:\n",
    "            lines = f.readlines()\n",
    "\n",
    "        labels = list()\n",
    "        all_dat = list()\n",
    "        for i, l in enumerate(lines):\n",
    "\n",
    "            labels.append(int(l[0]))\n",
    "\n",
    "            l = gensim.utils.any2unicode(l)\n",
    "            all_dat.append(LabeledSentence(l.split(\"\\t\")[-1], [i]))\n",
    "\n",
    "    return all_dat, np.asarray(labels)\n",
    "\n",
    "    def train(self):\n",
    "        for epoch in range(self.epochs):\n",
    "            print \"epoch: \", epoch\n",
    "            self.train(all_dat)\n",
    "            self.alpha -= 0.002  # decrease the learning rate\n",
    "            self.min_alpha = model.alpha  # fix the learning rate, no decay\n",
    "\n",
    "all_dat, labels = load_data(\"training_data.txt\")\n",
    "\n",
    "%whos"
   ]
  },
  {
   "cell_type": "code",
   "execution_count": 21,
   "metadata": {
    "collapsed": false,
    "deletable": true,
    "editable": true
   },
   "outputs": [],
   "source": [
    "model = Doc2Vec(all_dat, size=20,\n",
    "                window=3,\n",
    "                min_count=2,\n",
    "                workers=1, alpha=0.5, min_alpha=0.025, batch_words=30)"
   ]
  },
  {
   "cell_type": "code",
   "execution_count": 22,
   "metadata": {
    "collapsed": true
   },
   "outputs": [],
   "source": [
    "for epoch in range(10):\n",
    "    model.train(all_dat)\n",
    "    model.alpha -= 0.002  # decrease the learning rate\n",
    "    model.min_alpha = model.alpha  # fix the learning rate, no decay\n"
   ]
  },
  {
   "cell_type": "code",
   "execution_count": 24,
   "metadata": {
    "collapsed": false
   },
   "outputs": [
    {
     "data": {
      "text/plain": [
       "array([ -4.16080618,   7.86999989,  -4.46199608,   7.13694048,\n",
       "         3.10698271,  -2.88840127,   1.74471748,  -0.97182751,\n",
       "         5.87341976,   6.100739  ,   1.21941137,  -3.40129614,\n",
       "         1.46895027,   3.24989533,  -5.19673252,  -3.19910502,\n",
       "        10.21798515,   0.87634373,  -5.62255907,  -7.26466751], dtype=float32)"
      ]
     },
     "execution_count": 24,
     "metadata": {},
     "output_type": "execute_result"
    }
   ],
   "source": [
    "model.docvecs[0]"
   ]
  },
  {
   "cell_type": "code",
   "execution_count": 32,
   "metadata": {
    "collapsed": false
   },
   "outputs": [
    {
     "data": {
      "text/plain": [
       "<matplotlib.image.AxesImage at 0x7fa22ccc5e10>"
      ]
     },
     "execution_count": 32,
     "metadata": {},
     "output_type": "execute_result"
    },
    {
     "data": {
      "image/png": "[encoded data removed]",
      "text/plain": [
       "<matplotlib.figure.Figure at 0x7fa22cd5df90>"
      ]
     },
     "metadata": {},
     "output_type": "display_data"
    }
   ],
   "source": [
    "plt.matshow(np.asarray(model.docvecs)[0:100, 0:20])"
   ]
  },
  {
   "cell_type": "code",
   "execution_count": 31,
   "metadata": {
    "collapsed": false
   },
   "outputs": [
    {
     "data": {
      "text/plain": [
       "<matplotlib.image.AxesImage at 0x7fa22cd1cdd0>"
      ]
     },
     "execution_count": 31,
     "metadata": {},
     "output_type": "execute_result"
    },
    {
     "data": {
      "image/png": "[encoded data removed]",
      "text/plain": [
       "<matplotlib.figure.Figure at 0x7fa22ce95650>"
      ]
     },
     "metadata": {},
     "output_type": "display_data"
    }
   ],
   "source": [
    "plt.matshow(np.asarray(model.docvecs)[20:40, 0:20])"
   ]
  },
  {
   "cell_type": "code",
   "execution_count": null,
   "metadata": {
    "collapsed": true
   },
   "outputs": [],
   "source": []
  }
 ],
 "metadata": {
  "kernelspec": {
   "display_name": "Python 2",
   "language": "python",
   "name": "python2"
  },
  "language_info": {
   "codemirror_mode": {
    "name": "ipython",
    "version": 2
   },
   "file_extension": ".py",
   "mimetype": "text/x-python",
   "name": "python",
   "nbconvert_exporter": "python",
   "pygments_lexer": "ipython2",
   "version": "2.7.6"
  }
 },
 "nbformat": 4,
 "nbformat_minor": 0
}
