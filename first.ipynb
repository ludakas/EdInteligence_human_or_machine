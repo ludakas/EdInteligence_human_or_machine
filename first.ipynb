{
 "cells": [
  {
   "cell_type": "code",
   "execution_count": 30,
   "metadata": {
    "collapsed": false
   },
   "outputs": [
    {
     "name": "stdout",
     "output_type": "stream",
     "text": [
      "[u'Taylor', u'Swift', u'...', u'que', u'escribi\\xf3', u'e', u'interpret\\xf3', u'una', u'canci\\xf3n', u'de', u'apertura', u'HIGHlarious', u'm\\xe1s', u'bonito', u'de', u'lo', u'que', u'no', u'se', u'debe', u'hacer', u'en', u'un', u'mon\\xf3logo', u'(', u'arriba', u')', u'!']\n",
      "[u'\"', u'Yo', u'no', u'quer\\xeda', u'que', u'la', u'gente', u'pensara', u'que', u'estaba', u'haciendo', u'mermelada', u'de', u'ardilla', u'.']\n",
      "[u'\"', u'La', u'plataforma', u'de', u'software', u'de', u'Nokia', u'X', u'se', u'basa', u'en', u'AOSP', u',', u'Android', u'Open', u'Source', u'Project', u'\"', u',', u'dijo', u'el', u'director', u'de', u'marketing', u'de', u'Nokia', u'para', u'su', u'divisi\\xf3n', u'de', u'tel\\xe9fonos', u'm\\xf3viles', u',', u'Neil', u'Broadley', u'.']\n",
      "[u'Su', u'atenci\\xf3n', u'se', u'centra', u'en', u'la', u'curiosidad', u'humana', u'y', u'conversaciones', u'.']\n",
      "Variable    Type        Data/Info\n",
      "---------------------------------\n",
      "Doc2Vec     type        <class 'gensim.models.doc2vec.Doc2Vec'>\n",
      "gensim      module      <module 'gensim' from '/u<...>ges/gensim/__init__.pyc'>\n",
      "human       list        n=3\n",
      "load_data   function    <function load_data at 0x7f8309978398>\n",
      "machine     list        n=4\n"
     ]
    }
   ],
   "source": [
    "from gensim.models.doc2vec import Doc2Vec\n",
    "import gensim\n",
    "\n",
    "def load_data(file_name):\n",
    "    with open(file_name) as f:\n",
    "        lines = f.readlines()\n",
    "        \n",
    "    machine = list()\n",
    "    human = list()\n",
    "    for l in lines:\n",
    "        if l[0]=='0':\n",
    "            l = gensim.utils.any2unicode(l)\n",
    "            machine.append(l[2:].split())\n",
    "            print machine[-1]\n",
    "        else:\n",
    "            human.append(l[2:])\n",
    "        \n",
    "    return machine, human        \n",
    "\n",
    "machine, human = load_data(\"data_sub.txt\")\n",
    "\n",
    "%whos"
   ]
  },
  {
   "cell_type": "code",
   "execution_count": 32,
   "metadata": {
    "collapsed": false
   },
   "outputs": [],
   "source": [
    "# model = Doc2Vec(machine, size=20, window=8, min_count=2, workers=1, alpha=0.025, min_alpha=0.025, batch_words=30)"
   ]
  },
  {
   "cell_type": "code",
   "execution_count": null,
   "metadata": {
    "collapsed": true
   },
   "outputs": [],
   "source": []
  }
 ],
 "metadata": {
  "kernelspec": {
   "display_name": "Python 2",
   "language": "python",
   "name": "python2"
  },
  "language_info": {
   "codemirror_mode": {
    "name": "ipython",
    "version": 2
   },
   "file_extension": ".py",
   "mimetype": "text/x-python",
   "name": "python",
   "nbconvert_exporter": "python",
   "pygments_lexer": "ipython2",
   "version": "2.7.12"
  }
 },
 "nbformat": 4,
 "nbformat_minor": 0
}
